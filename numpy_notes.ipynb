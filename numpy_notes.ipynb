{
  "nbformat": 4,
  "nbformat_minor": 0,
  "metadata": {
    "colab": {
      "provenance": []
    },
    "kernelspec": {
      "name": "python3",
      "display_name": "Python 3"
    },
    "language_info": {
      "name": "python"
    }
  },
  "cells": [
    {
      "cell_type": "code",
      "execution_count": null,
      "metadata": {
        "id": "VPT3RxBsZxsZ"
      },
      "outputs": [],
      "source": [
        "import numpy as np"
      ]
    },
    {
      "cell_type": "markdown",
      "source": [
        "Without datatype parameter"
      ],
      "metadata": {
        "id": "1O3u9mpHbQ2S"
      }
    },
    {
      "cell_type": "code",
      "source": [
        "myarr = np.array([7,6,5,8])"
      ],
      "metadata": {
        "id": "xH4flZxtatCQ"
      },
      "execution_count": null,
      "outputs": []
    },
    {
      "cell_type": "code",
      "source": [
        "myarr"
      ],
      "metadata": {
        "colab": {
          "base_uri": "https://localhost:8080/"
        },
        "id": "ZNTAMPyabF-6",
        "outputId": "48ec1e25-d6db-42f0-ba59-397ae87b8ae6"
      },
      "execution_count": null,
      "outputs": [
        {
          "output_type": "execute_result",
          "data": {
            "text/plain": [
              "array([7, 6, 5, 8])"
            ]
          },
          "metadata": {},
          "execution_count": 3
        }
      ]
    },
    {
      "cell_type": "code",
      "source": [
        "myarr[1]"
      ],
      "metadata": {
        "colab": {
          "base_uri": "https://localhost:8080/"
        },
        "id": "tWkllCt8boHD",
        "outputId": "aa796ee3-6066-4c14-d929-5df5ff694643"
      },
      "execution_count": null,
      "outputs": [
        {
          "output_type": "execute_result",
          "data": {
            "text/plain": [
              "6"
            ]
          },
          "metadata": {},
          "execution_count": 4
        }
      ]
    },
    {
      "cell_type": "markdown",
      "source": [
        "With datatype parameter"
      ],
      "metadata": {
        "id": "6OqB3Ad6bWOS"
      }
    },
    {
      "cell_type": "code",
      "source": [
        "myarr2 = np.array([9,0,5,4],np.int8)\n"
      ],
      "metadata": {
        "id": "ZpKuCYsRbJH5"
      },
      "execution_count": null,
      "outputs": []
    },
    {
      "cell_type": "code",
      "source": [
        "myarr2"
      ],
      "metadata": {
        "colab": {
          "base_uri": "https://localhost:8080/"
        },
        "id": "QGx2ZfblbnYx",
        "outputId": "2f10a685-6bda-4f61-917d-74a581a56006"
      },
      "execution_count": null,
      "outputs": [
        {
          "output_type": "execute_result",
          "data": {
            "text/plain": [
              "array([9, 0, 5, 4], dtype=int8)"
            ]
          },
          "metadata": {},
          "execution_count": 6
        }
      ]
    },
    {
      "cell_type": "code",
      "source": [
        "myarr2[3]"
      ],
      "metadata": {
        "colab": {
          "base_uri": "https://localhost:8080/"
        },
        "id": "njsrrGfZbv2D",
        "outputId": "36a2fda7-7c15-43d7-d64b-22c423242c87"
      },
      "execution_count": null,
      "outputs": [
        {
          "output_type": "execute_result",
          "data": {
            "text/plain": [
              "4"
            ]
          },
          "metadata": {},
          "execution_count": 7
        }
      ]
    },
    {
      "cell_type": "code",
      "source": [
        "myarr2.shape"
      ],
      "metadata": {
        "colab": {
          "base_uri": "https://localhost:8080/"
        },
        "id": "8O5Ud4iccPtZ",
        "outputId": "f7d51c5a-a49d-4f1f-e6f4-488f38504a68"
      },
      "execution_count": null,
      "outputs": [
        {
          "output_type": "execute_result",
          "data": {
            "text/plain": [
              "(4,)"
            ]
          },
          "metadata": {},
          "execution_count": 8
        }
      ]
    },
    {
      "cell_type": "markdown",
      "source": [
        "2d array"
      ],
      "metadata": {
        "id": "iDbkHOXtcDRW"
      }
    },
    {
      "cell_type": "code",
      "source": [
        "twodarr = np.array([[4,3,5,2],[2,3,1,4]],np.int8)"
      ],
      "metadata": {
        "id": "i52GtARnb5tP"
      },
      "execution_count": null,
      "outputs": []
    },
    {
      "cell_type": "code",
      "source": [
        "twodarr[1,2]"
      ],
      "metadata": {
        "colab": {
          "base_uri": "https://localhost:8080/"
        },
        "id": "9I0TvgTOcogQ",
        "outputId": "99f89c8d-32bc-4db1-9ebb-0a2713ca41bd"
      },
      "execution_count": null,
      "outputs": [
        {
          "output_type": "execute_result",
          "data": {
            "text/plain": [
              "1"
            ]
          },
          "metadata": {},
          "execution_count": 10
        }
      ]
    },
    {
      "cell_type": "code",
      "source": [
        "twodarr.shape"
      ],
      "metadata": {
        "colab": {
          "base_uri": "https://localhost:8080/"
        },
        "id": "o0-fwhJPcpXK",
        "outputId": "b90cd7ff-4a96-4b05-85fa-4d360fabe942"
      },
      "execution_count": null,
      "outputs": [
        {
          "output_type": "execute_result",
          "data": {
            "text/plain": [
              "(2, 4)"
            ]
          },
          "metadata": {},
          "execution_count": 11
        }
      ]
    },
    {
      "cell_type": "code",
      "source": [
        "twodarr.dtype"
      ],
      "metadata": {
        "colab": {
          "base_uri": "https://localhost:8080/"
        },
        "id": "Z3ZoMQVwc7Dh",
        "outputId": "0e7951d0-7688-4a96-8d78-b21dc276685f"
      },
      "execution_count": null,
      "outputs": [
        {
          "output_type": "execute_result",
          "data": {
            "text/plain": [
              "dtype('int8')"
            ]
          },
          "metadata": {},
          "execution_count": 12
        }
      ]
    },
    {
      "cell_type": "code",
      "source": [],
      "metadata": {
        "id": "9dXDOO5QdA34"
      },
      "execution_count": null,
      "outputs": []
    }
  ]
}